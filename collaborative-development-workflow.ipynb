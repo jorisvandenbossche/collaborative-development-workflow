{
 "metadata": {
  "celltoolbar": "Slideshow",
  "name": "",
  "signature": "sha256:04945bcedcc9f4dafe912bdf3c04dd57dcc2b95af33609e47cfb66fabdbfb873"
 },
 "nbformat": 3,
 "nbformat_minor": 0,
 "worksheets": [
  {
   "cells": [
    {
     "cell_type": "markdown",
     "metadata": {
      "slideshow": {
       "slide_type": "slide"
      }
     },
     "source": [
      "# A collaborative development workflow"
     ]
    },
    {
     "cell_type": "markdown",
     "metadata": {
      "slideshow": {
       "slide_type": "slide"
      }
     },
     "source": [
      "## Overview\n",
      "\n",
      "* development mode\n",
      "* revision control git\n",
      "* forking/branching\n",
      "* code review\n",
      "* code conventions (style, naming, ..)\n",
      "* In depth: git workflow"
     ]
    },
    {
     "cell_type": "markdown",
     "metadata": {
      "slideshow": {
       "slide_type": "slide"
      }
     },
     "source": [
      "## Workflows for collaborative code development?\n",
      "\n",
      "**When is this important?**\n",
      "\n",
      "* When working simultaneously (**at the same time**) with **multiple people** on the same code base\n",
      "\n",
      "**Why is this important?**\n",
      "\n",
      "* In the case above, not following a clear workflow will only lead to more merge conflicts, lost work and **a lot of frustation**\n",
      "\n",
      "\n",
      "So strictly following the clear (git) workflow outlined in this presentation will, although seeming to be more work in the beginning, lead to a smooth collaboration in the end."
     ]
    },
    {
     "cell_type": "markdown",
     "metadata": {
      "slideshow": {
       "slide_type": "slide"
      }
     },
     "source": [
      "## Types of collaborative development models\n",
      "\n",
      "There are two popular models of collaborative development on GitHub: Fork & pull and shared repository.\n",
      "\n",
      "* **Fork & pull**:\n",
      "    * Lets anyone fork an existing repository and push changes to their personal fork without requiring access be granted to the source repository.\n",
      "    * Popular with open open source projects.\n",
      "\n",
      "* **Shared repository**: \n",
      "    * Small teams collaborating on private projects\n",
      "\n",
      "The fork & pull model lets anyone fork an existing repository and push changes to their personal fork without requiring access be granted to the source repository. The changes must then be pulled into the source repository by the project maintainer. This model reduces the amount of friction for new contributors and is popular with open source projects because it allows people to work independently without upfront coordination.\n",
      "Shared repository model\n",
      "\n",
      "The shared repository model is more prevalent with small teams and organizations collaborating on private projects. Everyone is granted push access to a single shared repository and topic branches are used to isolate changes.\n",
      "\n",
      "**Pull requests** (discussed later) are useful in both models. They are especially useful in the fork & pull model because they provide a way to notify project maintainers about changes in your fork. However, they're also useful in the shared repository model where they're used to initiate code review and general discussion about a set of changes before being merged into a mainline branch."
     ]
    },
    {
     "cell_type": "markdown",
     "metadata": {
      "slideshow": {
       "slide_type": "slide"
      }
     },
     "source": [
      "## Setup your environment\n",
      "\n",
      "Clone your fork:\n",
      "\n",
      "```bash\n",
      "git clone https://github.ugent.be/username/biointense.git\n",
      "```\n",
      "\n",
      "and add 'upstream' as a remote:\n",
      "\n",
      "```bash\n",
      "git remote add upstream https://github.ugent.be/biomath/biointense.git\n",
      "```\n"
     ]
    },
    {
     "cell_type": "markdown",
     "metadata": {
      "slideshow": {
       "slide_type": "fragment"
      }
     },
     "source": [
      "List your remotes:\n",
      "\n",
      "```bash\n",
      "$ ~/scipy/biointense$ git remote -v\n",
      "origin\thttps://github.ugent.be/jorvdnbo/biointense.git (fetch)\n",
      "origin\thttps://github.ugent.be/jorvdnbo/biointense.git (push)\n",
      "upstream\thttps://github.ugent.be/biomath/biointense.git (fetch)\n",
      "upstream\thttps://github.ugent.be/biomath/biointense.git (push)\n",
      "```"
     ]
    },
    {
     "cell_type": "markdown",
     "metadata": {
      "slideshow": {
       "slide_type": "slide"
      }
     },
     "source": [
      "## Working with the local source code\n",
      "\n",
      "### Installing in \"development mode\"\n",
      "\n",
      "Use `develop` instead of `install:`\n",
      "\n",
      "    python setup.py develop\n",
      "\n",
      "Installing from local src in Development Mode, i.e. in such a way that the project appears to be installed, but yet is still editable in the source location ([link](http://pythonhosted.org/setuptools/setuptools.html#development-mode))."
     ]
    },
    {
     "cell_type": "markdown",
     "metadata": {
      "slideshow": {
       "slide_type": "slide"
      }
     },
     "source": [
      "## Intermezzo - Code readability\n",
      "\n",
      "*Code is read many more times than written!*\n",
      "\n",
      "In many cases, that person is probably going to be you, twelve months from now.\n",
      "\n",
      "* Consistency!\n",
      "* Consistency in formatting, style, naming scheme, ..\n",
      "* Documentation and comments\n",
      "* DRY"
     ]
    },
    {
     "cell_type": "markdown",
     "metadata": {
      "slideshow": {
       "slide_type": "slide"
      }
     },
     "source": [
      "### Fundamental theorem of code readability\n",
      "\n",
      "In [The Art of Readable Code](http://www.amazon.com/gp/product/0596802293/ref=as_li_ss_tl?ie=UTF8&tag=theende-20&linkCode=as2&camp=217145&creative=399373&creativeASIN=0596802293), the authors call the following the \u201cFundamental Theorem of Readability\u201d:\n",
      "\n",
      "> Code should be written to minimize the time it would take for someone else to understand it - even if that someone else is you.\n",
      "\n",
      "They go on to explain:\n",
      "\n",
      "> And when we say \u201cunderstand,\u201d we have a very high bar ... they should be able to make changes to it, spot bugs, and understand how it interacts with the rest of your code.\n",
      "\n",
      "<small>(source: http://www.johndcook.com/blog/2011/11/28/fundamental-theorem-of-readability/)</small>"
     ]
    },
    {
     "cell_type": "markdown",
     "metadata": {
      "slideshow": {
       "slide_type": "slide"
      }
     },
     "source": [
      "## Code review\n",
      "\n",
      "Peer code review is a process by which developers review and evaluate each other\u2019s code.\n",
      "\n",
      "Why?\n",
      "\n",
      "- Improve the code - higher code quality\n",
      "   - Spot bugs or vulnerabilities in the code\n",
      "   - Strive for consistency, readability, efficiency, and maintainability\n",
      "- Knowledge sharing - learning from and teaching others\n",
      "  - Learn from getting feedback\n",
      "  - Learn from reading someone elses code\n",
      "- Fun\n",
      "- Speed (less intensive form of pair programming)\n",
      "- Assess code readability, by, well .. reading the code!\n",
      "\n",
      "Code reviews help spread knowledge and best practices around code across the team."
     ]
    },
    {
     "cell_type": "markdown",
     "metadata": {
      "slideshow": {
       "slide_type": "slide"
      }
     },
     "source": [
      "## Code review:\n",
      "\n",
      "Use Pull requests (PR) through github for all changes:\n",
      "\n",
      "- Notify people\n",
      "- View changes\n",
      "- Comment on changes\n",
      "- Discuss\n",
      "- Merge code"
     ]
    },
    {
     "cell_type": "markdown",
     "metadata": {
      "slideshow": {
       "slide_type": "slide"
      }
     },
     "source": [
      "## Code conventions\n",
      "\n",
      "Consistent code style:\n",
      "\n",
      "- PEP8 (use tools like pylint, flake8, ... inside your IDE)\n",
      "- clear internal naming scheme -> need well defined API"
     ]
    },
    {
     "cell_type": "markdown",
     "metadata": {
      "slideshow": {
       "slide_type": "slide"
      }
     },
     "source": [
      "# Git workflow"
     ]
    },
    {
     "cell_type": "markdown",
     "metadata": {
      "slideshow": {
       "slide_type": "slide"
      }
     },
     "source": [
      "## Git rules\n",
      "\n",
      "1. One true master\n",
      "   * Keep master a previous copy of upstream/master (FF).\n",
      "   * Never work in master\n",
      "* Branch always\n",
      "  * Only branch off master.\n",
      "  * Branch often, branch for each feature, each bug-fix.\n",
      "* Never merge, do rebase\n",
      "\n",
      "-> Summary: typical workflow"
     ]
    },
    {
     "cell_type": "markdown",
     "metadata": {
      "slideshow": {
       "slide_type": "slide"
      }
     },
     "source": [
      "## Commandments\n",
      "\n",
      "1. Keep master a previous copy of upstream/master (FF).\n",
      "* Only branch off master.\n",
      "* Branch often, branch for each feature, each bug-fix.\n",
      "* Push only to origin (your Github repository).\n",
      "* Do rebase.\n"
     ]
    },
    {
     "cell_type": "markdown",
     "metadata": {
      "slideshow": {
       "slide_type": "slide"
      }
     },
     "source": [
      "## 1. Keep master a copy of upstream/master\n",
      "\n",
      "Updating your local master from upstream:\n",
      "\n",
      "```bash\n",
      "git fetch upstream\n",
      "git checkout master\n",
      "git merge --ff-only upstream/master\n",
      "git push origin master\n",
      "```\n",
      "\n",
      "Commandment: **Never work in master!** -> make branches for everything"
     ]
    },
    {
     "cell_type": "markdown",
     "metadata": {
      "slideshow": {
       "slide_type": "slide"
      }
     },
     "source": [
      "## 2. Branch\n",
      "\n",
      "### Only branch off master\n",
      "\n",
      "```bash\n",
      "git checkout master\n",
      "git checkout -b featureA \n",
      "```\n"
     ]
    },
    {
     "cell_type": "markdown",
     "metadata": {
      "slideshow": {
       "slide_type": "fragment"
      }
     },
     "source": [
      "### MAKE BRANCHES INDEPENDENT\n",
      "\n",
      "Keeping concerns separate.\n",
      "\n",
      "Branches are CHEAP.\n",
      "\n",
      "```bash\n",
      "git checkout master\n",
      "git checkout -b featureA \n",
      "```\n",
      "\n",
      "<img src=files/img/feature_branch.png></img>"
     ]
    },
    {
     "cell_type": "markdown",
     "metadata": {
      "slideshow": {
       "slide_type": "slide"
      }
     },
     "source": [
      "## Summary\n",
      "\n",
      "Commit to your own feature branches.\n",
      "\n",
      "Keep master with only reviewed and tested commits."
     ]
    },
    {
     "cell_type": "markdown",
     "metadata": {
      "slideshow": {
       "slide_type": "slide"
      }
     },
     "source": [
      "## 3. Never merge, do rebase\n",
      "\n",
      "Don't use `merge` or `pull` (= automatic fetch + merge)\n",
      "\n",
      "```bash\n",
      "git rebase upstream/master\n",
      "```"
     ]
    },
    {
     "cell_type": "markdown",
     "metadata": {
      "slideshow": {
       "slide_type": "fragment"
      }
     },
     "source": [
      "But to be a bit more specific:\n",
      "\n",
      "* Only rebase local feature branches, never rebase upstream (branch that you pulled)\n",
      "* The reason you rebase your feature branch is that it can be merged into master without conflicts\n",
      "* This advice does not hold when working with shared branched (working with multiple people on the same branch)\n",
      "* You *use* merge to merge a feature branch into master (or Github does this for you)"
     ]
    },
    {
     "cell_type": "markdown",
     "metadata": {
      "slideshow": {
       "slide_type": "slide"
      }
     },
     "source": [
      "## Summary: typical workflow\n",
      "\n",
      "\n",
      "1\\. Update master:\n",
      "\n",
      "```bash\n",
      "git fetch upstream\n",
      "git checkout master\n",
      "git merge --ff-only upstream/master\n",
      "```\n",
      "\n",
      "2\\. Create a new topic branch from master:\n",
      "\n",
      "```bash\n",
      "git checkout master\n",
      "git checkout -b feature_branch\n",
      "```\n",
      "\n",
      "3\\. Do stuff:\n",
      "\n",
      "```markdown\n",
      "git commit -am \"message\"\n",
      "git push origin feature_branch\n",
      "```"
     ]
    },
    {
     "cell_type": "markdown",
     "metadata": {
      "slideshow": {
       "slide_type": "fragment"
      }
     },
     "source": [
      "4\\. Make a pull request with your changes:\n",
      "\n",
      "```bash\n",
      "git push origin feature_branch\n",
      "```\n",
      "\n",
      "5\\. Code review!\n",
      "\n",
      "6\\. Update your branch with rebase:\n",
      "\n",
      "```bash\n",
      "git checkout feature_branch\n",
      "git fetch upstream\n",
      "git rebase upstream/master\n",
      "```\n",
      "\n",
      "If you have to resolve merge conflicts:\n",
      "\n",
      "```bash\n",
      "git add <changed files>\n",
      "```\n",
      "\n",
      "```markdown\n",
      "git rebase --continue\n",
      "```\n",
      "\n",
      "Force push to github (this updates the pull request!):\n",
      "   \n",
      "```bash\n",
      "git push origin feature_branch --force\n",
      "```"
     ]
    },
    {
     "cell_type": "markdown",
     "metadata": {
      "slideshow": {
       "slide_type": "slide"
      }
     },
     "source": []
    },
    {
     "cell_type": "markdown",
     "metadata": {
      "slideshow": {
       "slide_type": "slide"
      }
     },
     "source": [
      "## Some extra git tips\n",
      "\n",
      "### Amend\n",
      "\n",
      "Add a small edit to your last commit:\n",
      "\n",
      "```bash\n",
      "git commit -a --amend\n",
      "```\n",
      "\n",
      "### Squash\n",
      "\n",
      "If wanted: squash N commits into 1\n",
      "\n",
      "```bash\n",
      "git rebase -i upstream/master\n",
      "```\n",
      "\n",
      "This opens a file: replace all but the first ``pick`` with ``squash``. Then it opens the commit message (usually you can leave as is). \n",
      "\n",
      "```bash\n",
      "git push origin feature_branch --force\n",
      "```\n"
     ]
    },
    {
     "cell_type": "markdown",
     "metadata": {
      "slideshow": {
       "slide_type": "slide"
      }
     },
     "source": [
      "## Some extra git tips\n",
      "\n",
      "### Git aliases\n",
      "\n",
      "For those who don't like to type too much characters, you can add this to your `.gitconfig` file:\n",
      "\n",
      "```\n",
      "[alias]\n",
      "  r = rebase\n",
      "  f = fetch\n",
      "  ff = merge --ff-only\n",
      "  co = checkout\n",
      "  c = commit\n",
      "  a = add\n",
      "  p = push\n",
      "  pf = push --force\n",
      "  s = status\n",
      "  b = branch\n",
      "  l = log\n",
      "  h = log --pretty=format:\\\"%h %ad | %s%d [%an]\\\" --date=short\n",
      "\n",
      "  # for even more convenience\n",
      "  po = push origin\n",
      "  fu = fetch upstream\n",
      "  ff = merge --ff-only upstream/master\n",
      "  # for fetching the code in a pr (eg 'git pr 52')\n",
      "  pr = \"!sh -c \\\"git fetch upstream pull/$1/head:refs/remotes/upstream/pr/$1\\\" -\"\n",
      "```"
     ]
    },
    {
     "cell_type": "markdown",
     "metadata": {
      "slideshow": {
       "slide_type": "slide"
      }
     },
     "source": [
      "## Some extra git tips\n",
      "\n",
      "### Setting the remote branch to push\n",
      "\n",
      "When working on a feature branch, you typically do\n",
      "\n",
      "```bash\n",
      "git push origin feature_branch\n",
      "```\n",
      "\n",
      "When you add the first time you do this the `-u` argument, then the subsequent times you don't need to specify the remote:\n",
      "\n",
      "```bash\n",
      "git push -u origin feature_branch\n",
      "```\n",
      "\n",
      "Next time:\n",
      "\n",
      "```bash\n",
      "git push\n",
      "```"
     ]
    },
    {
     "cell_type": "markdown",
     "metadata": {
      "slideshow": {
       "slide_type": "slide"
      }
     },
     "source": [
      "## SUMMARY\n",
      "\n",
      "    Keep master ff-ed to upstream/master.\n",
      "    Create a new branch (for each feature) from master.\n",
      "    Make pull requests to upstream.\n",
      "    Rebase branches to update.\n",
      "\n",
      "\n",
      "\n",
      "    Do not git pull.\n",
      "    Do not git merge.\n",
      "    Do not pass Go. "
     ]
    }
   ],
   "metadata": {}
  }
 ]
}