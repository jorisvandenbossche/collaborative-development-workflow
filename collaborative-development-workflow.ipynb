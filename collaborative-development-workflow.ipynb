{
 "metadata": {
  "celltoolbar": "Slideshow",
  "name": "",
  "signature": "sha256:00e339b32aead47280e1e6c0e3ebcf293eb246e9f149bf58197c783d7d8d9693"
 },
 "nbformat": 3,
 "nbformat_minor": 0,
 "worksheets": [
  {
   "cells": [
    {
     "cell_type": "markdown",
     "metadata": {
      "slideshow": {
       "slide_type": "slide"
      }
     },
     "source": [
      "# A collaborative development workflow"
     ]
    },
    {
     "cell_type": "markdown",
     "metadata": {
      "slideshow": {
       "slide_type": "slide"
      }
     },
     "source": [
      "## Overview\n",
      "\n",
      "* development mode\n",
      "* revision control git\n",
      "* forking/branching\n",
      "* code review\n",
      "* code conventions (style, naming, ..)\n",
      "* In depth: git workflow"
     ]
    },
    {
     "cell_type": "markdown",
     "metadata": {
      "slideshow": {
       "slide_type": "slide"
      }
     },
     "source": [
      "## Setup your environment\n",
      "\n",
      "Clone your fork:\n",
      "\n",
      "    git clone https://github.ugent.be/username/biointense.git\n",
      "\n",
      "and add 'upstream' as a remote:\n",
      "\n",
      "    git remote add upstream https://github.ugent.be/biomath/biointense.git"
     ]
    },
    {
     "cell_type": "markdown",
     "metadata": {
      "slideshow": {
       "slide_type": "slide"
      }
     },
     "source": [
      "## Setup your environment\n",
      "\n",
      "List your remotes:\n",
      "\n",
      "    $ ~/scipy/biointense$ git remote -v\n",
      "    origin\thttps://github.ugent.be/jorvdnbo/biointense.git (fetch)\n",
      "    origin\thttps://github.ugent.be/jorvdnbo/biointense.git (push)\n",
      "    upstream\thttps://github.ugent.be/biomath/biointense.git (fetch)\n",
      "    upstream\thttps://github.ugent.be/biomath/biointense.git (push)\n"
     ]
    },
    {
     "cell_type": "markdown",
     "metadata": {
      "slideshow": {
       "slide_type": "slide"
      }
     },
     "source": [
      "## Working with the local source code\n",
      "\n",
      "### Installing in \"development mode\"\n",
      "\n",
      "Use `develop` instead of `install:`\n",
      "\n",
      "    python setup.py develop\n",
      "\n",
      "Installing from local src in Development Mode, i.e. in such a way that the project appears to be installed, but yet is still editable from the src tree.\n",
      "\n",
      "http://pythonhosted.org/setuptools/setuptools.html#development-mode"
     ]
    },
    {
     "cell_type": "markdown",
     "metadata": {
      "slideshow": {
       "slide_type": "slide"
      }
     },
     "source": [
      "## Code readability\n",
      "\n",
      "*Code is read many more times than written!*\n",
      "\n",
      "In many cases, that person is probably going to be you, twelve months from now.\n",
      "\n",
      "* Consistency!\n",
      "* Consistency in formatting, style, naming scheme, ..\n",
      "* Documentation and comments\n",
      "* DRY"
     ]
    },
    {
     "cell_type": "markdown",
     "metadata": {
      "slideshow": {
       "slide_type": "slide"
      }
     },
     "source": [
      "### Fundamental theorem of code readability\n",
      "\n",
      "In [The Art of Readable Code](http://www.amazon.com/gp/product/0596802293/ref=as_li_ss_tl?ie=UTF8&tag=theende-20&linkCode=as2&camp=217145&creative=399373&creativeASIN=0596802293), the authors call the following the \u201cFundamental Theorem of Readability\u201d:\n",
      "\n",
      "> Code should be written to minimize the time it would take for someone else to understand it - even if that someone else is you.\n",
      "\n",
      "They go on to explain:\n",
      "\n",
      "> And when we say \u201cunderstand,\u201d we have a very high bar ... they should be able to make changes to it, spot bugs, and understand how it interacts with the rest of your code.\n",
      "\n",
      "<small>(source: http://www.johndcook.com/blog/2011/11/28/fundamental-theorem-of-readability/)</small>"
     ]
    },
    {
     "cell_type": "markdown",
     "metadata": {
      "slideshow": {
       "slide_type": "slide"
      }
     },
     "source": [
      "## Code review\n",
      "\n",
      "Peer code review is a process by which developers review and evaluate each other\u2019s code.\n",
      "\n",
      "Why?\n",
      "\n",
      "- Improve the cocde - higher code quality (spot bugs, strive for consistency)\n",
      "- learning and teaching others\n",
      "  - Learn from getting feedback\n",
      "  - Learn from reading someone elses code\n",
      "- Fun\n",
      "- Speed (less intensive form of pair programming)\n",
      "- Assess code readability, by, well .. reading the code!\n",
      "\n",
      "Code reviews help spread knowledge and best practices around code across the team.\n",
      "\n",
      "\n",
      "\n",
      "\n",
      "\n",
      "    Fewer bugs. Developers can continue making errors as usual, but code reviews will decrease the amount of those bugs that make it to production.\n",
      "    Better security. Code reviews make it easy to spot potential vulnerabilities and fix them before they make their way to your servers.\n",
      "    Knowledge sharing. Members of your team can learn from each other by reviewing each other\u2019s code.\n",
      "    Code quality. Things like readability, efficiency, and maintainability of your code may not always directly affect your users but they are tremendously important in the long run of your project.\n",
      "    Better performance. Code reviews help spot performance issues and regressions.\n"
     ]
    },
    {
     "cell_type": "markdown",
     "metadata": {
      "slideshow": {
       "slide_type": "slide"
      }
     },
     "source": [
      "## Code review:\n",
      "\n",
      "Pull requests:\n",
      "\n",
      "- View changes\n",
      "- Comment on changes\n",
      "- Discuss\n",
      "- Merge code"
     ]
    },
    {
     "cell_type": "markdown",
     "metadata": {
      "slideshow": {
       "slide_type": "slide"
      }
     },
     "source": [
      "## Git workflow"
     ]
    },
    {
     "cell_type": "markdown",
     "metadata": {
      "slideshow": {
       "slide_type": "slide"
      }
     },
     "source": [
      "## Types of collaborative development models\n",
      "\n",
      "There are two popular models of collaborative development on GitHub: Fork & pull and shared repository.\n",
      "\n",
      "* **Fork & pull**:\n",
      "  * Lets anyone fork an existing repository and push changes to their personal fork without requiring access be granted to the source repository.\n",
      "  * Popular with open open source projects.\n",
      "\n",
      "* **Shared repository**: \n",
      "\n",
      "  * Small teams collaborating on private projects\n",
      "\n",
      "The fork & pull model lets anyone fork an existing repository and push changes to their personal fork without requiring access be granted to the source repository. The changes must then be pulled into the source repository by the project maintainer. This model reduces the amount of friction for new contributors and is popular with open source projects because it allows people to work independently without upfront coordination.\n",
      "Shared repository model\n",
      "\n",
      "The shared repository model is more prevalent with small teams and organizations collaborating on private projects. Everyone is granted push access to a single shared repository and topic branches are used to isolate changes.\n",
      "\n",
      "Pull requests are especially useful in the fork & pull model because they provide a way to notify project maintainers about changes in your fork. However, they're also useful in the shared repository model where they're used to initiate code review and general discussion about a set of changes before being merged into a mainline branch."
     ]
    },
    {
     "cell_type": "markdown",
     "metadata": {
      "slideshow": {
       "slide_type": "slide"
      }
     },
     "source": [
      "## Git rules\n",
      "\n",
      "1. One true master\n",
      "   * Keep master a previous copy of upstream/master (FF).\n",
      "   * Never work in master\n",
      "* Branch\n",
      "* Never merge, do rebase\n",
      "\n",
      "Typical workflow"
     ]
    },
    {
     "cell_type": "markdown",
     "metadata": {
      "slideshow": {
       "slide_type": "slide"
      }
     },
     "source": [
      "## Commandments\n",
      "\n",
      "1. Keep master a previous copy of upstream/master (FF).\n",
      "* Only branch off master.\n",
      "* Branch often, branch for each feature, each bug-fix.\n",
      "* Push only to origin (your Github repository).\n",
      "* Do rebase.\n"
     ]
    },
    {
     "cell_type": "markdown",
     "metadata": {
      "slideshow": {
       "slide_type": "slide"
      }
     },
     "source": [
      "## 1. Keep master a copy of upstream/master\n",
      "\n",
      "UPDATING MASTER:\n",
      "\n",
      "    git fetch upstream\n",
      "    git checkout master\n",
      "    git ff upstream/master  # ffum\n",
      "    git push origin master  # pom\n",
      "    git checkout back_to_branch"
     ]
    },
    {
     "cell_type": "markdown",
     "metadata": {
      "slideshow": {
       "slide_type": "slide"
      }
     },
     "source": [
      "## 2. Only branch off master\n",
      "\n",
      "    git checkout master\n",
      "    git checkout -b featureA \n",
      "\n"
     ]
    },
    {
     "cell_type": "markdown",
     "metadata": {
      "slideshow": {
       "slide_type": "slide"
      }
     },
     "source": [
      "## MAKE BRANCHES INDEPENDENT\n",
      "\n",
      "Keeping concerns separate.\n",
      "\n",
      "Branches are CHEAP.\n",
      "\n",
      "    git checkout master\n",
      "    git checkout -b featureA\n",
      "\n",
      "<img src=files/img/feature_branch.png></img>"
     ]
    },
    {
     "cell_type": "markdown",
     "metadata": {
      "slideshow": {
       "slide_type": "slide"
      }
     },
     "source": [
      "<img src=files/img/feature_branch.png></img>"
     ]
    },
    {
     "cell_type": "markdown",
     "metadata": {
      "slideshow": {
       "slide_type": "slide"
      }
     },
     "source": [
      "## Overview\n",
      "\n",
      "COMMIT TO YOur own FEATURE branches.\n",
      "\n",
      "Keep master with only reviewed and tested commits."
     ]
    },
    {
     "cell_type": "markdown",
     "metadata": {
      "slideshow": {
       "slide_type": "slide"
      }
     },
     "source": [
      "## PUSH\n",
      "Once you've done some work you should update/backup your online (Github) repository with your work.\n",
      "\n",
      "git push origin featureA\n",
      "\n",
      "Now it's on Github.\n",
      "\n",
      "\n",
      "WORKFLOW part 1\n",
      "Update master\n",
      "\n",
      "git fetch upstream\n",
      "git checkout master\n",
      "git ff upstream/master  # ffum\n",
      "git push origin master\n",
      "\n",
      "\n",
      "Create new branch from master\n",
      "\n",
      "git checkout master\n",
      "git checkout -b feature_branch\n",
      "# do stuff\n",
      "git commit\n",
      "git push origin feature_branch\n",
      "\n",
      "# PULL REQUEST VIA GITHUB\n",
      "\n",
      "\n",
      "Continued below  \u2193.\n",
      "WORKFLOW PART 2\n",
      "\n",
      "This means there are merge conflicts.\n",
      "\n",
      "Update branch with rebase\n",
      "\n",
      "git checkout featureA\n",
      "# optionally, create backup branch:\n",
      "git branch featureA_backup\n",
      "\n",
      "git rebase master\n",
      "# resolve merge conflicts (git add and git rebase --continue)\n",
      "# retest and check functionality is still here!\n",
      "\n",
      "git push origin feature_branch --force\n",
      "\n",
      "\n",
      "WORKFLOW PART 3\n",
      "\n",
      "Squash N commits into 1\n",
      "\n",
      "git checkout featureA\n",
      "# optionally, create backup branch\n",
      "git branch featureA_backup\n",
      "\n",
      "git rebase -i HEAD~N  # N is number of commits to squash\n",
      "# this opens a file: replace all but the first pick with s\n",
      "# then opens the commit message (usually you can leave as is)\n",
      "\n",
      "git diff featureA_backup  # optionally, compare with the backup\n",
      "# this diff this should be blank (otherwise you've dropped a commit*)\n",
      "\n",
      "git push origin featureA --force  # this updates the PULL REQUEST\n",
      "\n",
      "\n",
      "*see below\n",
      "PULL-REQUEST\n",
      "Once you've  completed your feature/bug fix you should request your branch be included into upstream.\n",
      "\n"
     ]
    },
    {
     "cell_type": "markdown",
     "metadata": {
      "slideshow": {
       "slide_type": "slide"
      }
     },
     "source": [
      "## Summary: typical workflow\n",
      "\n",
      "\n",
      "1\\. Update master:\n",
      "\n",
      "    git fetch upstream\n",
      "    git checkout master\n",
      "    git merge --ff-only upstream/master\n",
      "\n",
      "test\n",
      "\n",
      "```bash\n",
      "git fetch upstream\n",
      "git checkout master\n",
      "git merge --ff-only upstream/master\n",
      "```"
     ]
    },
    {
     "cell_type": "markdown",
     "metadata": {
      "slideshow": {
       "slide_type": "slide"
      }
     },
     "source": [
      "1. Update master:\n",
      "\n",
      "       git fetch upstream\n",
      "       git checkout master\n",
      "       git merge --ff-only upstream/master\n",
      "\n",
      "2. Create a new topic branch from master:\n",
      "\n",
      "       git checkout master\n",
      "       git checkout -b feature_branch\n",
      "\n",
      "3. Do stuff:\n",
      "\n",
      "       git commit -am \"message\"\n",
      "       git push origin feature_branch\n",
      "\n",
      "4. Make a pull request with your changes:\n",
      "\n",
      "       git push origin feature_branch\n",
      "\n",
      "5. Code review!\n",
      "\n",
      "6. Update your branch with rebase:\n",
      "\n",
      "       git checkout feature_branch\n",
      "       git fetch upstream\n",
      "       git rebase upstream/master\n",
      "\n",
      "   If you have to resolve merge conflicts:\n",
      "  \n",
      "       git add <changed files>\n",
      "       git rebase --continue\n",
      "\n",
      "   Force push to github:\n",
      "   \n",
      "       git push origin feature_branch --force\n"
     ]
    },
    {
     "cell_type": "markdown",
     "metadata": {
      "slideshow": {
       "slide_type": "fragment"
      }
     },
     "source": [
      "6. Update your branch with rebase:\n",
      "\n",
      "        git checkout feature_branch\n",
      "        git fetch upstream\n",
      "        git rebase upstream/master\n",
      "\n",
      "   If you have to resolve merge conflicts:\n",
      "  \n",
      "        git add <changed files>\n",
      "        git rebase --continue\n",
      "\n",
      "   Force push to github:\n",
      "   \n",
      "        git push origin feature_branch --force\n",
      "\n"
     ]
    },
    {
     "cell_type": "markdown",
     "metadata": {
      "slideshow": {
       "slide_type": "slide"
      }
     },
     "source": [
      "## Overview\n",
      "\n",
      "* development mode\n",
      "* revision control git\n",
      "* forking/branching\n",
      "* code review\n",
      "* code conventions (style, naming, ..)"
     ]
    },
    {
     "cell_type": "markdown",
     "metadata": {
      "slideshow": {
       "slide_type": "slide"
      }
     },
     "source": [
      "## SUMMARY\n",
      "\n",
      "    Keep master ff-ed to upstream/master.\n",
      "    Create a new branch (for each feature) from master.\n",
      "    Make pull requests to upstream.\n",
      "    Rebase branches to update.\n",
      "\n",
      "\n",
      "\n",
      "    Do not git pull.\n",
      "    Do not git merge.\n",
      "    Do not pass Go. "
     ]
    },
    {
     "cell_type": "markdown",
     "metadata": {
      "slideshow": {
       "slide_type": "slide"
      }
     },
     "source": [
      "## Overview\n",
      "\n",
      "* development mode\n",
      "* revision control git\n",
      "* forking/branching\n",
      "* code review\n",
      "* code conventions (style, naming, ..)"
     ]
    }
   ],
   "metadata": {}
  }
 ]
}